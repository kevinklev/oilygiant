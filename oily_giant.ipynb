{
 "cells": [
  {
   "cell_type": "markdown",
   "id": "5ca37eca",
   "metadata": {},
   "source": [
    "# Project Statement: Where should the next rig be placed?\n",
    "\n",
    "In this project, I am tasked with identifying the most profitable oil well location for OilyGiant mining company by analyzing geological data from three different regions. The project involves building a linear regression model to predict the volume of reserves for each oil well based on its parameters, such as oil quality and reserve volume. Using these predictions, I will select the most promising wells and determine the region that offers the highest total profit potential. The analysis will incorporate the Bootstrapping technique to evaluate potential profits and associated risks, ensuring the final decision adheres to the company's requirement of maintaining a risk of loss below 2.5%. The goal is to maximize return on investment by choosing the optimal region for new oil well development while satisfying specific business constraints.\n",
    "\n",
    "For each region under consideration, an initial pool of 500 potential sites will be evaluated to select the top 200 with the most promising oil reserves for profit calculation. The allotted budget for developing these 200 wells is set at 100 million. Economically, each barrel of oil is expected to generate $4.5 in revenue, with the understanding that the oil reserve volumes are measured in thousands of barrels, making the revenue from one unit of product 4,500. Post risk assessment, only those regions with a loss risk under 2.5% will be considered for development. Among these, the region with the highest average profit will be chosen as the site for new oil well development."
   ]
  },
  {
   "cell_type": "markdown",
   "id": "7b9d92a9",
   "metadata": {},
   "source": [
    "# Table of Contents <a id = 'back'></a>\n",
    "\n",
    "* [1.Load and Inspect Data](#load)\n",
    "* [2.Clean Data](#clean)\n",
    "* [3.Creation of Features and Model Testing](#test)\n",
    "* [4.Bootstrapping and Final Assessment](#final)\n",
    "* [5.Conclusion](#done)"
   ]
  },
  {
   "cell_type": "code",
   "execution_count": 1,
   "id": "042722bc",
   "metadata": {},
   "outputs": [
    {
     "name": "stderr",
     "output_type": "stream",
     "text": [
      "/Users/kevinklev/opt/anaconda3/lib/python3.9/site-packages/scipy/__init__.py:146: UserWarning: A NumPy version >=1.16.5 and <1.23.0 is required for this version of SciPy (detected version 1.26.2\n",
      "  warnings.warn(f\"A NumPy version >={np_minversion} and <{np_maxversion}\"\n"
     ]
    }
   ],
   "source": [
    "import pandas as pd \n",
    "import numpy as np\n",
    "from sklearn.model_selection import train_test_split\n",
    "from sklearn.linear_model import LinearRegression\n",
    "from sklearn.metrics import mean_squared_error"
   ]
  },
  {
   "cell_type": "markdown",
   "id": "38eaa405",
   "metadata": {},
   "source": [
    "# Load and Inspect Data <a id = 'load'><a/>"
   ]
  },
  {
   "cell_type": "code",
   "execution_count": 51,
   "id": "6b04ef06",
   "metadata": {},
   "outputs": [],
   "source": [
    "# loading data \n",
    "data0 = pd.read_csv('geo_data_0.csv')\n",
    "data1 = pd.read_csv('geo_data_1.csv')\n",
    "data2 = pd.read_csv('geo_data_2.csv')"
   ]
  },
  {
   "cell_type": "code",
   "execution_count": 52,
   "id": "a8f44d91",
   "metadata": {},
   "outputs": [],
   "source": [
    "# creating list of data sets\n",
    "data_sets = [data0, data1, data2]"
   ]
  },
  {
   "cell_type": "code",
   "execution_count": 53,
   "id": "12776cfd",
   "metadata": {},
   "outputs": [
    {
     "name": "stdout",
     "output_type": "stream",
     "text": [
      "data0:\n",
      "<class 'pandas.core.frame.DataFrame'>\n",
      "RangeIndex: 100000 entries, 0 to 99999\n",
      "Data columns (total 5 columns):\n",
      " #   Column   Non-Null Count   Dtype  \n",
      "---  ------   --------------   -----  \n",
      " 0   id       100000 non-null  object \n",
      " 1   f0       100000 non-null  float64\n",
      " 2   f1       100000 non-null  float64\n",
      " 3   f2       100000 non-null  float64\n",
      " 4   product  100000 non-null  float64\n",
      "dtypes: float64(4), object(1)\n",
      "memory usage: 3.8+ MB\n",
      "None\n",
      " \n",
      "data1:\n",
      "<class 'pandas.core.frame.DataFrame'>\n",
      "RangeIndex: 100000 entries, 0 to 99999\n",
      "Data columns (total 5 columns):\n",
      " #   Column   Non-Null Count   Dtype  \n",
      "---  ------   --------------   -----  \n",
      " 0   id       100000 non-null  object \n",
      " 1   f0       100000 non-null  float64\n",
      " 2   f1       100000 non-null  float64\n",
      " 3   f2       100000 non-null  float64\n",
      " 4   product  100000 non-null  float64\n",
      "dtypes: float64(4), object(1)\n",
      "memory usage: 3.8+ MB\n",
      "None\n",
      " \n",
      "data2:\n",
      "<class 'pandas.core.frame.DataFrame'>\n",
      "RangeIndex: 100000 entries, 0 to 99999\n",
      "Data columns (total 5 columns):\n",
      " #   Column   Non-Null Count   Dtype  \n",
      "---  ------   --------------   -----  \n",
      " 0   id       100000 non-null  object \n",
      " 1   f0       100000 non-null  float64\n",
      " 2   f1       100000 non-null  float64\n",
      " 3   f2       100000 non-null  float64\n",
      " 4   product  100000 non-null  float64\n",
      "dtypes: float64(4), object(1)\n",
      "memory usage: 3.8+ MB\n",
      "None\n",
      " \n"
     ]
    }
   ],
   "source": [
    "# displaying general dataframe information\n",
    "n =0\n",
    "for i in data_sets:\n",
    "    print(f'data{n}:')\n",
    "    print(data0.info())\n",
    "    print(' ')\n",
    "    n = n+1"
   ]
  },
  {
   "cell_type": "code",
   "execution_count": 54,
   "id": "33b6be37",
   "metadata": {},
   "outputs": [
    {
     "name": "stdout",
     "output_type": "stream",
     "text": [
      "data0:\n"
     ]
    },
    {
     "data": {
      "text/html": [
       "<div>\n",
       "<style scoped>\n",
       "    .dataframe tbody tr th:only-of-type {\n",
       "        vertical-align: middle;\n",
       "    }\n",
       "\n",
       "    .dataframe tbody tr th {\n",
       "        vertical-align: top;\n",
       "    }\n",
       "\n",
       "    .dataframe thead th {\n",
       "        text-align: right;\n",
       "    }\n",
       "</style>\n",
       "<table border=\"1\" class=\"dataframe\">\n",
       "  <thead>\n",
       "    <tr style=\"text-align: right;\">\n",
       "      <th></th>\n",
       "      <th>f0</th>\n",
       "      <th>f1</th>\n",
       "      <th>f2</th>\n",
       "      <th>product</th>\n",
       "    </tr>\n",
       "  </thead>\n",
       "  <tbody>\n",
       "    <tr>\n",
       "      <th>count</th>\n",
       "      <td>100000.000000</td>\n",
       "      <td>100000.000000</td>\n",
       "      <td>100000.000000</td>\n",
       "      <td>100000.000000</td>\n",
       "    </tr>\n",
       "    <tr>\n",
       "      <th>mean</th>\n",
       "      <td>0.500419</td>\n",
       "      <td>0.250143</td>\n",
       "      <td>2.502647</td>\n",
       "      <td>92.500000</td>\n",
       "    </tr>\n",
       "    <tr>\n",
       "      <th>std</th>\n",
       "      <td>0.871832</td>\n",
       "      <td>0.504433</td>\n",
       "      <td>3.248248</td>\n",
       "      <td>44.288691</td>\n",
       "    </tr>\n",
       "    <tr>\n",
       "      <th>min</th>\n",
       "      <td>-1.408605</td>\n",
       "      <td>-0.848218</td>\n",
       "      <td>-12.088328</td>\n",
       "      <td>0.000000</td>\n",
       "    </tr>\n",
       "    <tr>\n",
       "      <th>25%</th>\n",
       "      <td>-0.072580</td>\n",
       "      <td>-0.200881</td>\n",
       "      <td>0.287748</td>\n",
       "      <td>56.497507</td>\n",
       "    </tr>\n",
       "    <tr>\n",
       "      <th>50%</th>\n",
       "      <td>0.502360</td>\n",
       "      <td>0.250252</td>\n",
       "      <td>2.515969</td>\n",
       "      <td>91.849972</td>\n",
       "    </tr>\n",
       "    <tr>\n",
       "      <th>75%</th>\n",
       "      <td>1.073581</td>\n",
       "      <td>0.700646</td>\n",
       "      <td>4.715088</td>\n",
       "      <td>128.564089</td>\n",
       "    </tr>\n",
       "    <tr>\n",
       "      <th>max</th>\n",
       "      <td>2.362331</td>\n",
       "      <td>1.343769</td>\n",
       "      <td>16.003790</td>\n",
       "      <td>185.364347</td>\n",
       "    </tr>\n",
       "  </tbody>\n",
       "</table>\n",
       "</div>"
      ],
      "text/plain": [
       "                  f0             f1             f2        product\n",
       "count  100000.000000  100000.000000  100000.000000  100000.000000\n",
       "mean        0.500419       0.250143       2.502647      92.500000\n",
       "std         0.871832       0.504433       3.248248      44.288691\n",
       "min        -1.408605      -0.848218     -12.088328       0.000000\n",
       "25%        -0.072580      -0.200881       0.287748      56.497507\n",
       "50%         0.502360       0.250252       2.515969      91.849972\n",
       "75%         1.073581       0.700646       4.715088     128.564089\n",
       "max         2.362331       1.343769      16.003790     185.364347"
      ]
     },
     "metadata": {},
     "output_type": "display_data"
    },
    {
     "name": "stdout",
     "output_type": "stream",
     "text": [
      " \n",
      "data1:\n"
     ]
    },
    {
     "data": {
      "text/html": [
       "<div>\n",
       "<style scoped>\n",
       "    .dataframe tbody tr th:only-of-type {\n",
       "        vertical-align: middle;\n",
       "    }\n",
       "\n",
       "    .dataframe tbody tr th {\n",
       "        vertical-align: top;\n",
       "    }\n",
       "\n",
       "    .dataframe thead th {\n",
       "        text-align: right;\n",
       "    }\n",
       "</style>\n",
       "<table border=\"1\" class=\"dataframe\">\n",
       "  <thead>\n",
       "    <tr style=\"text-align: right;\">\n",
       "      <th></th>\n",
       "      <th>f0</th>\n",
       "      <th>f1</th>\n",
       "      <th>f2</th>\n",
       "      <th>product</th>\n",
       "    </tr>\n",
       "  </thead>\n",
       "  <tbody>\n",
       "    <tr>\n",
       "      <th>count</th>\n",
       "      <td>100000.000000</td>\n",
       "      <td>100000.000000</td>\n",
       "      <td>100000.000000</td>\n",
       "      <td>100000.000000</td>\n",
       "    </tr>\n",
       "    <tr>\n",
       "      <th>mean</th>\n",
       "      <td>0.500419</td>\n",
       "      <td>0.250143</td>\n",
       "      <td>2.502647</td>\n",
       "      <td>92.500000</td>\n",
       "    </tr>\n",
       "    <tr>\n",
       "      <th>std</th>\n",
       "      <td>0.871832</td>\n",
       "      <td>0.504433</td>\n",
       "      <td>3.248248</td>\n",
       "      <td>44.288691</td>\n",
       "    </tr>\n",
       "    <tr>\n",
       "      <th>min</th>\n",
       "      <td>-1.408605</td>\n",
       "      <td>-0.848218</td>\n",
       "      <td>-12.088328</td>\n",
       "      <td>0.000000</td>\n",
       "    </tr>\n",
       "    <tr>\n",
       "      <th>25%</th>\n",
       "      <td>-0.072580</td>\n",
       "      <td>-0.200881</td>\n",
       "      <td>0.287748</td>\n",
       "      <td>56.497507</td>\n",
       "    </tr>\n",
       "    <tr>\n",
       "      <th>50%</th>\n",
       "      <td>0.502360</td>\n",
       "      <td>0.250252</td>\n",
       "      <td>2.515969</td>\n",
       "      <td>91.849972</td>\n",
       "    </tr>\n",
       "    <tr>\n",
       "      <th>75%</th>\n",
       "      <td>1.073581</td>\n",
       "      <td>0.700646</td>\n",
       "      <td>4.715088</td>\n",
       "      <td>128.564089</td>\n",
       "    </tr>\n",
       "    <tr>\n",
       "      <th>max</th>\n",
       "      <td>2.362331</td>\n",
       "      <td>1.343769</td>\n",
       "      <td>16.003790</td>\n",
       "      <td>185.364347</td>\n",
       "    </tr>\n",
       "  </tbody>\n",
       "</table>\n",
       "</div>"
      ],
      "text/plain": [
       "                  f0             f1             f2        product\n",
       "count  100000.000000  100000.000000  100000.000000  100000.000000\n",
       "mean        0.500419       0.250143       2.502647      92.500000\n",
       "std         0.871832       0.504433       3.248248      44.288691\n",
       "min        -1.408605      -0.848218     -12.088328       0.000000\n",
       "25%        -0.072580      -0.200881       0.287748      56.497507\n",
       "50%         0.502360       0.250252       2.515969      91.849972\n",
       "75%         1.073581       0.700646       4.715088     128.564089\n",
       "max         2.362331       1.343769      16.003790     185.364347"
      ]
     },
     "metadata": {},
     "output_type": "display_data"
    },
    {
     "name": "stdout",
     "output_type": "stream",
     "text": [
      " \n",
      "data2:\n"
     ]
    },
    {
     "data": {
      "text/html": [
       "<div>\n",
       "<style scoped>\n",
       "    .dataframe tbody tr th:only-of-type {\n",
       "        vertical-align: middle;\n",
       "    }\n",
       "\n",
       "    .dataframe tbody tr th {\n",
       "        vertical-align: top;\n",
       "    }\n",
       "\n",
       "    .dataframe thead th {\n",
       "        text-align: right;\n",
       "    }\n",
       "</style>\n",
       "<table border=\"1\" class=\"dataframe\">\n",
       "  <thead>\n",
       "    <tr style=\"text-align: right;\">\n",
       "      <th></th>\n",
       "      <th>f0</th>\n",
       "      <th>f1</th>\n",
       "      <th>f2</th>\n",
       "      <th>product</th>\n",
       "    </tr>\n",
       "  </thead>\n",
       "  <tbody>\n",
       "    <tr>\n",
       "      <th>count</th>\n",
       "      <td>100000.000000</td>\n",
       "      <td>100000.000000</td>\n",
       "      <td>100000.000000</td>\n",
       "      <td>100000.000000</td>\n",
       "    </tr>\n",
       "    <tr>\n",
       "      <th>mean</th>\n",
       "      <td>0.500419</td>\n",
       "      <td>0.250143</td>\n",
       "      <td>2.502647</td>\n",
       "      <td>92.500000</td>\n",
       "    </tr>\n",
       "    <tr>\n",
       "      <th>std</th>\n",
       "      <td>0.871832</td>\n",
       "      <td>0.504433</td>\n",
       "      <td>3.248248</td>\n",
       "      <td>44.288691</td>\n",
       "    </tr>\n",
       "    <tr>\n",
       "      <th>min</th>\n",
       "      <td>-1.408605</td>\n",
       "      <td>-0.848218</td>\n",
       "      <td>-12.088328</td>\n",
       "      <td>0.000000</td>\n",
       "    </tr>\n",
       "    <tr>\n",
       "      <th>25%</th>\n",
       "      <td>-0.072580</td>\n",
       "      <td>-0.200881</td>\n",
       "      <td>0.287748</td>\n",
       "      <td>56.497507</td>\n",
       "    </tr>\n",
       "    <tr>\n",
       "      <th>50%</th>\n",
       "      <td>0.502360</td>\n",
       "      <td>0.250252</td>\n",
       "      <td>2.515969</td>\n",
       "      <td>91.849972</td>\n",
       "    </tr>\n",
       "    <tr>\n",
       "      <th>75%</th>\n",
       "      <td>1.073581</td>\n",
       "      <td>0.700646</td>\n",
       "      <td>4.715088</td>\n",
       "      <td>128.564089</td>\n",
       "    </tr>\n",
       "    <tr>\n",
       "      <th>max</th>\n",
       "      <td>2.362331</td>\n",
       "      <td>1.343769</td>\n",
       "      <td>16.003790</td>\n",
       "      <td>185.364347</td>\n",
       "    </tr>\n",
       "  </tbody>\n",
       "</table>\n",
       "</div>"
      ],
      "text/plain": [
       "                  f0             f1             f2        product\n",
       "count  100000.000000  100000.000000  100000.000000  100000.000000\n",
       "mean        0.500419       0.250143       2.502647      92.500000\n",
       "std         0.871832       0.504433       3.248248      44.288691\n",
       "min        -1.408605      -0.848218     -12.088328       0.000000\n",
       "25%        -0.072580      -0.200881       0.287748      56.497507\n",
       "50%         0.502360       0.250252       2.515969      91.849972\n",
       "75%         1.073581       0.700646       4.715088     128.564089\n",
       "max         2.362331       1.343769      16.003790     185.364347"
      ]
     },
     "metadata": {},
     "output_type": "display_data"
    },
    {
     "name": "stdout",
     "output_type": "stream",
     "text": [
      " \n"
     ]
    }
   ],
   "source": [
    "# displaying descriptive statistics\n",
    "n =0\n",
    "for i in data_sets:\n",
    "    print(f'data{n}:')\n",
    "    display(data0.describe())\n",
    "    print(' ')\n",
    "    n = n+1"
   ]
  },
  {
   "cell_type": "markdown",
   "id": "a7e9ea09",
   "metadata": {},
   "source": [
    "# Cleaning Data <a id = 'clean'><a/>"
   ]
  },
  {
   "cell_type": "code",
   "execution_count": 56,
   "id": "fe5e48e3",
   "metadata": {},
   "outputs": [
    {
     "name": "stdout",
     "output_type": "stream",
     "text": [
      "data0:\n",
      "10\n",
      "data1:\n",
      "4\n",
      "data2:\n",
      "4\n"
     ]
    }
   ],
   "source": [
    "# checking for duplicates in each datasets with loop\n",
    "data_l = [data0, data1, data2]\n",
    "n= 0\n",
    "for i in data_l:\n",
    "    print(f'data{n}:')\n",
    "    print(i['id'].duplicated().sum())\n",
    "    n = n +1 "
   ]
  },
  {
   "cell_type": "code",
   "execution_count": 57,
   "id": "84c42c06",
   "metadata": {},
   "outputs": [],
   "source": [
    "# writing function to check for and subsequently drop duplicate values\n",
    "def check_drop_dupe(data):\n",
    "    dupes = list(data[data['id'].duplicated()]['id'])\n",
    "    ind = data[data['id'].isin(dupes) == True].index\n",
    "    s = data['id'].duplicated().sum()\n",
    "    if s > 0:\n",
    "        data = data.drop(ind)\n",
    "    return data\n",
    "    "
   ]
  },
  {
   "cell_type": "code",
   "execution_count": 58,
   "id": "3f494d99",
   "metadata": {},
   "outputs": [],
   "source": [
    "# running data through duplicate function\n",
    "data0 = check_drop_dupe(data0)\n",
    "data1 = check_drop_dupe(data1)\n",
    "data2 = check_drop_dupe(data2)"
   ]
  },
  {
   "cell_type": "markdown",
   "id": "9faeb8ce",
   "metadata": {},
   "source": [
    "# Feature Creation and Model Testing <a id = 'test'><a/>"
   ]
  },
  {
   "cell_type": "code",
   "execution_count": 59,
   "id": "44620b73",
   "metadata": {},
   "outputs": [],
   "source": [
    "# creating feature and target data\n",
    "features0 = data0.drop(['id', 'product'], axis = 1)\n",
    "target0 = data0['product']\n",
    "\n",
    "features1 = data1.drop(['id', 'product'], axis = 1)\n",
    "target1 = data1['product']\n",
    "\n",
    "features2 = data2.drop(['id', 'product'], axis = 1)\n",
    "target2 = data2['product']"
   ]
  },
  {
   "cell_type": "code",
   "execution_count": 60,
   "id": "3bae75e8",
   "metadata": {},
   "outputs": [],
   "source": [
    "# creating function to split data into training and validation data \n",
    "def split_data(features, target):\n",
    "\n",
    "    features_train, features_valid, target_train, target_valid = train_test_split(features, \n",
    "                                                                              target, \n",
    "                                                                              test_size = .25,\n",
    "                                                                              random_state = 12345)\n",
    "    return features_train, features_valid, target_train, target_valid"
   ]
  },
  {
   "cell_type": "code",
   "execution_count": 61,
   "id": "a2ab0770",
   "metadata": {},
   "outputs": [],
   "source": [
    "# running data through split function\n",
    "features_train0, features_valid0, target_train0, target_valid0 = split_data(features0, target0)\n",
    "\n",
    "features_train1, features_valid1, target_train1, target_valid1 = split_data(features1, target1)\n",
    "\n",
    "features_train2, features_valid2, target_train2, target_valid2 = split_data(features2, target2)"
   ]
  },
  {
   "cell_type": "markdown",
   "id": "d3d47396",
   "metadata": {},
   "source": [
    "Region 0 baseline and model:"
   ]
  },
  {
   "cell_type": "code",
   "execution_count": 11,
   "id": "c5151b74",
   "metadata": {},
   "outputs": [
    {
     "name": "stdout",
     "output_type": "stream",
     "text": [
      "Baseline RMSE: 44.34727648978901\n"
     ]
    }
   ],
   "source": [
    "# creating baseline for data0\n",
    "baseline0 = pd.Series(target_train0.mean(), index = target_valid0.index)\n",
    "base_mse = mean_squared_error(target_valid0, baseline0)\n",
    "print(f'Baseline RMSE: {np.sqrt(base_mse)}')"
   ]
  },
  {
   "cell_type": "markdown",
   "id": "322ef17a",
   "metadata": {},
   "source": [
    "Building as model to predict the oil reserves"
   ]
  },
  {
   "cell_type": "code",
   "execution_count": 62,
   "id": "6feb44ff",
   "metadata": {},
   "outputs": [
    {
     "name": "stdout",
     "output_type": "stream",
     "text": [
      "Average Volume of Predicted Reserves: 92.42384109947359\n",
      "Model RMSE: 37.716904960382735\n"
     ]
    }
   ],
   "source": [
    "# intializing model\n",
    "model = LinearRegression()\n",
    "# fitting data\n",
    "model.fit(features_train0, target_train0)\n",
    "# prediciting data \n",
    "predictions_valid0 = model.predict(features_valid0)\n",
    "\n",
    "# gathering mse score and rmse score \n",
    "mse0 = mean_squared_error(target_valid0, predictions_valid0)\n",
    "rmse0 = np.sqrt(mse0)\n",
    "print(f'Average Volume of Predicted Reserves: {predictions_valid0.mean()}')\n",
    "print(f'Model RMSE: {rmse0}')"
   ]
  },
  {
   "cell_type": "markdown",
   "id": "98ebdf67",
   "metadata": {},
   "source": [
    "Region 1 Baseline and Model: "
   ]
  },
  {
   "cell_type": "code",
   "execution_count": 13,
   "id": "91d0a0c0",
   "metadata": {},
   "outputs": [
    {
     "name": "stdout",
     "output_type": "stream",
     "text": [
      "Baseline RMSE: 45.97003721244095\n"
     ]
    }
   ],
   "source": [
    "baseline1 = pd.Series(target_train1.mean(), index = target_valid1.index)\n",
    "base_mse = mean_squared_error(target_valid1, baseline1)\n",
    "print(f'Baseline RMSE: {np.sqrt(base_mse)}')"
   ]
  },
  {
   "cell_type": "code",
   "execution_count": 64,
   "id": "51ebed75",
   "metadata": {},
   "outputs": [
    {
     "name": "stdout",
     "output_type": "stream",
     "text": [
      "Average Volume of Predicted Reserves: 68.98311857983121\n",
      "Model RMSE: 0.891490139034853\n"
     ]
    }
   ],
   "source": [
    "# intializing model\n",
    "model = LinearRegression()\n",
    "# fitting data\n",
    "model.fit(features_train1, target_train1)\n",
    "# prediciting data \n",
    "predictions_valid1 = model.predict(features_valid1)\n",
    "\n",
    "# gathering mse score and rmse score \n",
    "mse1 = mean_squared_error(target_valid1, predictions_valid1)\n",
    "rmse1 = np.sqrt(mse1)\n",
    "print(f'Average Volume of Predicted Reserves: {predictions_valid1.mean()}')\n",
    "print(f'Model RMSE: {rmse1}')"
   ]
  },
  {
   "cell_type": "markdown",
   "id": "c1135ef9",
   "metadata": {},
   "source": [
    "Region 2 Baseline and Model:"
   ]
  },
  {
   "cell_type": "code",
   "execution_count": 15,
   "id": "4d4e5642",
   "metadata": {},
   "outputs": [
    {
     "name": "stdout",
     "output_type": "stream",
     "text": [
      "Baseline RMSE: 44.575227075379665\n"
     ]
    }
   ],
   "source": [
    "baseline2 = pd.Series(target_train2.mean(), index = target_valid2.index)\n",
    "base_mse = mean_squared_error(target_valid2, baseline2)\n",
    "print(f'Baseline RMSE: {np.sqrt(base_mse)}')"
   ]
  },
  {
   "cell_type": "code",
   "execution_count": 65,
   "id": "9a5d412b",
   "metadata": {},
   "outputs": [
    {
     "name": "stdout",
     "output_type": "stream",
     "text": [
      "Average Volume of Predicted Reserves: 95.11622302076478\n",
      "Model RMSE: 39.975543264382345\n"
     ]
    }
   ],
   "source": [
    "# intializing model\n",
    "model = LinearRegression()\n",
    "# fitting data\n",
    "model.fit(features_train2, target_train2)\n",
    "# prediciting data \n",
    "predictions_valid2 = model.predict(features_valid2)\n",
    "\n",
    "# gathering mse score and rmse score \n",
    "mse2 = mean_squared_error(target_valid2, predictions_valid2)\n",
    "rmse2 = np.sqrt(mse2)\n",
    "print(f'Average Volume of Predicted Reserves: {predictions_valid2.mean()}')\n",
    "print(f'Model RMSE: {rmse2}')"
   ]
  },
  {
   "cell_type": "markdown",
   "id": "8bb3f979",
   "metadata": {},
   "source": [
    "Model has proved to be more accurate than the baseline model. I believe it is fit to proceed with the predictions for this model"
   ]
  },
  {
   "cell_type": "code",
   "execution_count": 17,
   "id": "5162ae1b",
   "metadata": {},
   "outputs": [
    {
     "name": "stdout",
     "output_type": "stream",
     "text": [
      "Minimum units for net positive profit when developing a new well: 111.111\n"
     ]
    }
   ],
   "source": [
    "# finding minimum units for net profit\n",
    "n_best = 200 \n",
    "budget = 100000000\n",
    "barrel = 4.5\n",
    "unit =  1000 * barrel\n",
    "minimum_reserve = budget/n_best/unit\n",
    "print(f'Minimum units for net positive profit when developing a new well: {minimum_reserve:.3f}')\n",
    "\n",
    "\n"
   ]
  },
  {
   "cell_type": "markdown",
   "id": "2898f2a4",
   "metadata": {},
   "source": [
    "When comparing the minimum units needed per well to be net positive, the minimum units needed is above the mean of all three regions, with the greatest distance being from region 1. "
   ]
  },
  {
   "cell_type": "code",
   "execution_count": 66,
   "id": "38c6830d",
   "metadata": {},
   "outputs": [],
   "source": [
    "# creating profit calculation function\n",
    "def profit_calculation(target, predictions, count):\n",
    "    budget = 100000000\n",
    "    unit = 4.5 * 1000\n",
    "    top_predictions = predictions.nlargest(count).index\n",
    "    top_wells = target.loc[top_predictions]\n",
    "    rev = top_wells.sum() * unit\n",
    "    profit = rev - budget\n",
    "    return profit"
   ]
  },
  {
   "cell_type": "markdown",
   "id": "a2a6cd98",
   "metadata": {},
   "source": [
    "Profit Calculation for each region:\n",
    "    "
   ]
  },
  {
   "cell_type": "code",
   "execution_count": 67,
   "id": "760e6af9",
   "metadata": {},
   "outputs": [
    {
     "name": "stdout",
     "output_type": "stream",
     "text": [
      "Region 0 profit from top 200 wells: $31360260.57\n",
      "\n",
      "Region 1 profit from top 200 wells: $24150866.97\n",
      "\n",
      "Region 2 profit from top 200 wells: $24659457.92\n",
      "\n"
     ]
    }
   ],
   "source": [
    "# running each region through profit calculation \n",
    "predictions_valid0 = pd.Series(predictions_valid0, index = target_valid0.index)\n",
    "profit0 = profit_calculation(target_valid0, predictions_valid0, 200)\n",
    "print(f'Region 0 profit from top 200 wells: ${profit0:.2f}')\n",
    "print()\n",
    "\n",
    "predictions_valid1 = pd.Series(predictions_valid1, index = target_valid1.index)\n",
    "profit1 = profit_calculation(target_valid1, predictions_valid1, 200)\n",
    "print(f'Region 1 profit from top 200 wells: ${profit1:.2f}')\n",
    "print()\n",
    "\n",
    "predictions_valid2 = pd.Series(predictions_valid2, index = target_valid2.index)\n",
    "profit2 = profit_calculation(target_valid2, predictions_valid2, 200)\n",
    "print(f'Region 2 profit from top 200 wells: ${profit2:.2f}')\n",
    "print()"
   ]
  },
  {
   "cell_type": "markdown",
   "id": "7c1f77ed",
   "metadata": {},
   "source": [
    "# Bootstrapping Technique and Final Assessment <a id = 'final'><a/>"
   ]
  },
  {
   "cell_type": "code",
   "execution_count": 68,
   "id": "c2c88b0a",
   "metadata": {},
   "outputs": [],
   "source": [
    "# creating bootstrapping function\n",
    "def bootstrap_func(target, predictions, sample_size):\n",
    "    state = np.random.RandomState(12345)\n",
    "    profit_values = []\n",
    "\n",
    "    for i in range(1000):\n",
    "        target_subsample = target.sample(sample_size, replace = True, random_state = state)\n",
    "        predict_subsample = predictions[target_subsample.index]\n",
    "    \n",
    "        profit_values.append(profit_calculation(target_subsample, predict_subsample, 200))\n",
    "\n",
    "    \n",
    "    profit_values = pd.Series(profit_values)\n",
    "    \n",
    "    profit_mean = profit_values.mean()\n",
    "    lower = profit_values.quantile(.025)\n",
    "    upper = profit_values.quantile(.975)\n",
    "    risk_of_loss = profit_values[profit_values < 0].count() / len(profit_values)\n",
    "    \n",
    "    print(f'''\n",
    "    Mean Profit: ${profit_mean:.2f},\n",
    "    95% Confidence interval - \n",
    "        Lower limit: {lower:.2f}, \n",
    "        Upper limit: {upper:.2f}),\n",
    "    Risk of Loss: {risk_of_loss:.1%}''')"
   ]
  },
  {
   "cell_type": "code",
   "execution_count": 69,
   "id": "a521e11d",
   "metadata": {},
   "outputs": [
    {
     "name": "stdout",
     "output_type": "stream",
     "text": [
      "Region 0:\n",
      "\n",
      "    Mean Profit: $6329210.98,\n",
      "    95% Confidence interval - \n",
      "        Lower limit: 549998.19, \n",
      "        Upper limit: 12849098.55),\n",
      "    Risk of Loss: 2.0%\n"
     ]
    }
   ],
   "source": [
    "# running region 0 through bootstrap function\n",
    "print('Region 0:')\n",
    "bootstrap_func(target_valid0, predictions_valid0, 500)"
   ]
  },
  {
   "cell_type": "code",
   "execution_count": 70,
   "id": "a58a3ddc",
   "metadata": {},
   "outputs": [
    {
     "name": "stdout",
     "output_type": "stream",
     "text": [
      "Region 1:\n",
      "\n",
      "    Mean Profit: $6836507.78,\n",
      "    95% Confidence interval - \n",
      "        Lower limit: 1761041.83, \n",
      "        Upper limit: 12000844.86),\n",
      "    Risk of Loss: 0.7%\n"
     ]
    }
   ],
   "source": [
    "# running region 1 through bootstrap function\n",
    "print('Region 1:')\n",
    "bootstrap_func(target_valid1, predictions_valid1, 500)"
   ]
  },
  {
   "cell_type": "code",
   "execution_count": 71,
   "id": "c20b5aa6",
   "metadata": {},
   "outputs": [
    {
     "name": "stdout",
     "output_type": "stream",
     "text": [
      "Region 2:\n",
      "\n",
      "    Mean Profit: $5290364.67,\n",
      "    95% Confidence interval - \n",
      "        Lower limit: -635691.31, \n",
      "        Upper limit: 11644733.64),\n",
      "    Risk of Loss: 4.4%\n"
     ]
    }
   ],
   "source": [
    "# running region 2 through bootstrap function\n",
    "print('Region 2:')\n",
    "bootstrap_func(target_valid2, predictions_valid2, 500)"
   ]
  },
  {
   "cell_type": "markdown",
   "id": "ad16f56f",
   "metadata": {},
   "source": [
    "# Conclusion <a id = 'done'><a/>"
   ]
  },
  {
   "cell_type": "markdown",
   "id": "691c2054",
   "metadata": {},
   "source": [
    "Though the profit from the top 200 wells in region 1 were not as large as the other two regions, region 1 offers a more reliable source of income. This is mainly due to the significantly higher values at the lower quantile within a 95% confidence interval along with its significantly lower risk of loss. Due to this analysis, I strongly suggest that OilyGiant focus its development of new wells in region 1. "
   ]
  }
 ],
 "metadata": {
  "kernelspec": {
   "display_name": "Python 3 (ipykernel)",
   "language": "python",
   "name": "python3"
  },
  "language_info": {
   "codemirror_mode": {
    "name": "ipython",
    "version": 3
   },
   "file_extension": ".py",
   "mimetype": "text/x-python",
   "name": "python",
   "nbconvert_exporter": "python",
   "pygments_lexer": "ipython3",
   "version": "3.9.12"
  },
  "toc": {
   "base_numbering": 1,
   "nav_menu": {},
   "number_sections": true,
   "sideBar": true,
   "skip_h1_title": true,
   "title_cell": "Table of Contents",
   "title_sidebar": "Contents",
   "toc_cell": false,
   "toc_position": {},
   "toc_section_display": true,
   "toc_window_display": false
  }
 },
 "nbformat": 4,
 "nbformat_minor": 5
}
